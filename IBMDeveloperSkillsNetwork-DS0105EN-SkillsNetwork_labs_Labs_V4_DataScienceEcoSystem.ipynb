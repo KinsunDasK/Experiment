{
  "metadata": {
    "language_info": {
      "codemirror_mode": {
        "name": "python",
        "version": 3
      },
      "file_extension": ".py",
      "mimetype": "text/x-python",
      "name": "python",
      "nbconvert_exporter": "python",
      "pygments_lexer": "ipython3",
      "version": "3.8"
    },
    "kernelspec": {
      "name": "python",
      "display_name": "Python (Pyodide)",
      "language": "python"
    }
  },
  "nbformat_minor": 4,
  "nbformat": 4,
  "cells": [
    {
      "cell_type": "markdown",
      "source": "# DataScienceEcoSystem\n",
      "metadata": {}
    },
    {
      "cell_type": "markdown",
      "source": "#### markdown cell for an introduction\nThis is an experiment containing datascience tools and experient.",
      "metadata": {}
    },
    {
      "cell_type": "markdown",
      "source": "#### data science languages\nPython, R, SQL, Java, Scala, Julia, C++, ruby, MATLAB, SAS",
      "metadata": {}
    },
    {
      "cell_type": "markdown",
      "source": "#### data science libraries\nscikit-learn, Tensorflow, Pytorch, Pandas, matplotlib, Seaborn",
      "metadata": {}
    },
    {
      "cell_type": "markdown",
      "source": "#### data science tools\napache spark, tableau, spyder, anaconda, excel, julia",
      "metadata": {}
    },
    {
      "cell_type": "markdown",
      "source": "####  introducing arithmetic expression examples\n(5*5)+3 = 28",
      "metadata": {}
    },
    {
      "cell_type": "code",
      "source": "print((5*5)+3)",
      "metadata": {
        "trusted": true
      },
      "execution_count": 3,
      "outputs": [
        {
          "name": "stdout",
          "text": "28\n",
          "output_type": "stream"
        }
      ]
    },
    {
      "cell_type": "code",
      "source": "##converting minutes to hours\nminutes = 650\n\nhours = minutes/60\n\nprint(hours)",
      "metadata": {
        "trusted": true
      },
      "execution_count": 4,
      "outputs": [
        {
          "name": "stdout",
          "text": "10.833333333333334\n",
          "output_type": "stream"
        }
      ]
    },
    {
      "cell_type": "markdown",
      "source": "## objectives\n- data science languages: Python, R, SQL, Java, Scala, Julia, C++, ruby, MATLAB, SAS\n- data science libraries: scikit-learn, Tensorflow, Pytorch, Pandas, matplotlib, Seaborn\n- data science tools: apache spark, tableau, spyder, anaconda, excel, julia",
      "metadata": {}
    },
    {
      "cell_type": "markdown",
      "source": "## By Kinsun Das",
      "metadata": {}
    },
    {
      "cell_type": "code",
      "source": "",
      "metadata": {},
      "execution_count": null,
      "outputs": []
    }
  ]
}